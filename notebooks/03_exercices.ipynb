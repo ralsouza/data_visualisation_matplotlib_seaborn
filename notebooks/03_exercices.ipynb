{
  "nbformat": 4,
  "nbformat_minor": 0,
  "metadata": {
    "colab": {
      "name": "03_exercices.ipynb",
      "provenance": [],
      "collapsed_sections": [],
      "mount_file_id": "1VDlHDvf498Q86wDedOHiufboQURYY6e4",
      "authorship_tag": "ABX9TyNlzEjKe6evTynD0MIF8VRt",
      "include_colab_link": true
    },
    "kernelspec": {
      "name": "python3",
      "display_name": "Python 3"
    }
  },
  "cells": [
    {
      "cell_type": "markdown",
      "metadata": {
        "id": "view-in-github",
        "colab_type": "text"
      },
      "source": [
        "<a href=\"https://colab.research.google.com/github/ralsouza/data_visualisation_matplotlib_seaborn/blob/master/notebooks/03_exercices.ipynb\" target=\"_parent\"><img src=\"https://colab.research.google.com/assets/colab-badge.svg\" alt=\"Open In Colab\"/></a>"
      ]
    },
    {
      "cell_type": "code",
      "metadata": {
        "id": "htiM68IZwlTQ",
        "colab_type": "code",
        "outputId": "45a3df63-4a7d-4cbb-f8ee-38b689e6e3f1",
        "colab": {
          "base_uri": "https://localhost:8080/",
          "height": 71
        }
      },
      "source": [
        "# Import libraries\n",
        "import numpy as np\n",
        "import pandas as pd\n",
        "import matplotlib.pyplot as plt\n",
        "%matplotlib inline\n",
        "import seaborn as sns"
      ],
      "execution_count": 1,
      "outputs": [
        {
          "output_type": "stream",
          "text": [
            "/usr/local/lib/python3.6/dist-packages/statsmodels/tools/_testing.py:19: FutureWarning: pandas.util.testing is deprecated. Use the functions in the public API at pandas.testing instead.\n",
            "  import pandas.util.testing as tm\n"
          ],
          "name": "stderr"
        }
      ]
    },
    {
      "cell_type": "code",
      "metadata": {
        "id": "yfwqmjlDypZd",
        "colab_type": "code",
        "colab": {}
      },
      "source": [
        "# Load dataset\n",
        "df = pd.read_csv('/content/drive/My Drive/Colab Notebooks/05_data_visualisation_matplotlib_seaborn/data/dataframe_saved_v2.csv', parse_dates=['Data'])"
      ],
      "execution_count": 0,
      "outputs": []
    },
    {
      "cell_type": "code",
      "metadata": {
        "id": "fyDn03Ao0IVj",
        "colab_type": "code",
        "outputId": "c64f0306-5565-4fdf-fa2b-460419c8d410",
        "colab": {
          "base_uri": "https://localhost:8080/",
          "height": 143
        }
      },
      "source": [
        "# Check column data types\n",
        "df.dtypes"
      ],
      "execution_count": 0,
      "outputs": [
        {
          "output_type": "execute_result",
          "data": {
            "text/plain": [
              "Data          datetime64[ns]\n",
              "Distancia            float64\n",
              "Tempo                 object\n",
              "Segundos             float64\n",
              "Minutos              float64\n",
              "Min_Por_Km           float64\n",
              "dtype: object"
            ]
          },
          "metadata": {
            "tags": []
          },
          "execution_count": 3
        }
      ]
    },
    {
      "cell_type": "code",
      "metadata": {
        "id": "bZhQQ8sp24mW",
        "colab_type": "code",
        "colab": {}
      },
      "source": [
        "# Change column names\n",
        "df.columns = ['date','distance','time','seconds','minutes','min_per_km']"
      ],
      "execution_count": 0,
      "outputs": []
    },
    {
      "cell_type": "code",
      "metadata": {
        "id": "jHg08p_10rCd",
        "colab_type": "code",
        "outputId": "9b2bd24a-cafe-476c-f8ba-15c52a1ae562",
        "colab": {
          "base_uri": "https://localhost:8080/",
          "height": 204
        }
      },
      "source": [
        "# https://medium.com/@jman4190/explaining-the-inplace-parameter-for-beginners-5de7ffa18d2e\n",
        "# inplace: Do you want to overwrite the existing dataframe?\n",
        "# True: yes | False: no\n",
        "df.sort_index(inplace=True)\n",
        "df.head()"
      ],
      "execution_count": 30,
      "outputs": [
        {
          "output_type": "execute_result",
          "data": {
            "text/html": [
              "<div>\n",
              "<style scoped>\n",
              "    .dataframe tbody tr th:only-of-type {\n",
              "        vertical-align: middle;\n",
              "    }\n",
              "\n",
              "    .dataframe tbody tr th {\n",
              "        vertical-align: top;\n",
              "    }\n",
              "\n",
              "    .dataframe thead th {\n",
              "        text-align: right;\n",
              "    }\n",
              "</style>\n",
              "<table border=\"1\" class=\"dataframe\">\n",
              "  <thead>\n",
              "    <tr style=\"text-align: right;\">\n",
              "      <th></th>\n",
              "      <th>date</th>\n",
              "      <th>distance</th>\n",
              "      <th>time</th>\n",
              "      <th>seconds</th>\n",
              "      <th>minutes</th>\n",
              "      <th>min_per_km</th>\n",
              "    </tr>\n",
              "  </thead>\n",
              "  <tbody>\n",
              "    <tr>\n",
              "      <th>0</th>\n",
              "      <td>2015-08-02</td>\n",
              "      <td>1.70</td>\n",
              "      <td>NaN</td>\n",
              "      <td>NaN</td>\n",
              "      <td>NaN</td>\n",
              "      <td>NaN</td>\n",
              "    </tr>\n",
              "    <tr>\n",
              "      <th>1</th>\n",
              "      <td>2015-08-03</td>\n",
              "      <td>1.40</td>\n",
              "      <td>NaN</td>\n",
              "      <td>NaN</td>\n",
              "      <td>NaN</td>\n",
              "      <td>NaN</td>\n",
              "    </tr>\n",
              "    <tr>\n",
              "      <th>2</th>\n",
              "      <td>2015-08-04</td>\n",
              "      <td>2.10</td>\n",
              "      <td>NaN</td>\n",
              "      <td>NaN</td>\n",
              "      <td>NaN</td>\n",
              "      <td>NaN</td>\n",
              "    </tr>\n",
              "    <tr>\n",
              "      <th>3</th>\n",
              "      <td>2015-08-06</td>\n",
              "      <td>2.38</td>\n",
              "      <td>NaN</td>\n",
              "      <td>NaN</td>\n",
              "      <td>NaN</td>\n",
              "      <td>NaN</td>\n",
              "    </tr>\n",
              "    <tr>\n",
              "      <th>4</th>\n",
              "      <td>2015-08-07</td>\n",
              "      <td>2.30</td>\n",
              "      <td>NaN</td>\n",
              "      <td>NaN</td>\n",
              "      <td>NaN</td>\n",
              "      <td>NaN</td>\n",
              "    </tr>\n",
              "  </tbody>\n",
              "</table>\n",
              "</div>"
            ],
            "text/plain": [
              "        date  distance time  seconds  minutes  min_per_km\n",
              "0 2015-08-02      1.70  NaN      NaN      NaN         NaN\n",
              "1 2015-08-03      1.40  NaN      NaN      NaN         NaN\n",
              "2 2015-08-04      2.10  NaN      NaN      NaN         NaN\n",
              "3 2015-08-06      2.38  NaN      NaN      NaN         NaN\n",
              "4 2015-08-07      2.30  NaN      NaN      NaN         NaN"
            ]
          },
          "metadata": {
            "tags": []
          },
          "execution_count": 30
        }
      ]
    },
    {
      "cell_type": "code",
      "metadata": {
        "id": "GBPVhE4h424b",
        "colab_type": "code",
        "outputId": "8b5e9495-b10d-4b26-c8f1-c45d11b6df31",
        "colab": {
          "base_uri": "https://localhost:8080/",
          "height": 297
        }
      },
      "source": [
        "# Describing\n",
        "df.describe()"
      ],
      "execution_count": 0,
      "outputs": [
        {
          "output_type": "execute_result",
          "data": {
            "text/html": [
              "<div>\n",
              "<style scoped>\n",
              "    .dataframe tbody tr th:only-of-type {\n",
              "        vertical-align: middle;\n",
              "    }\n",
              "\n",
              "    .dataframe tbody tr th {\n",
              "        vertical-align: top;\n",
              "    }\n",
              "\n",
              "    .dataframe thead th {\n",
              "        text-align: right;\n",
              "    }\n",
              "</style>\n",
              "<table border=\"1\" class=\"dataframe\">\n",
              "  <thead>\n",
              "    <tr style=\"text-align: right;\">\n",
              "      <th></th>\n",
              "      <th>distance</th>\n",
              "      <th>seconds</th>\n",
              "      <th>minutes</th>\n",
              "      <th>min_per_km</th>\n",
              "    </tr>\n",
              "  </thead>\n",
              "  <tbody>\n",
              "    <tr>\n",
              "      <th>count</th>\n",
              "      <td>81.000000</td>\n",
              "      <td>52.000000</td>\n",
              "      <td>52.000000</td>\n",
              "      <td>52.000000</td>\n",
              "    </tr>\n",
              "    <tr>\n",
              "      <th>mean</th>\n",
              "      <td>3.137531</td>\n",
              "      <td>1901.788462</td>\n",
              "      <td>31.696474</td>\n",
              "      <td>7.725297</td>\n",
              "    </tr>\n",
              "    <tr>\n",
              "      <th>std</th>\n",
              "      <td>3.634519</td>\n",
              "      <td>2560.424171</td>\n",
              "      <td>42.673736</td>\n",
              "      <td>0.954475</td>\n",
              "    </tr>\n",
              "    <tr>\n",
              "      <th>min</th>\n",
              "      <td>0.650000</td>\n",
              "      <td>376.000000</td>\n",
              "      <td>6.266667</td>\n",
              "      <td>6.000000</td>\n",
              "    </tr>\n",
              "    <tr>\n",
              "      <th>25%</th>\n",
              "      <td>1.370000</td>\n",
              "      <td>583.750000</td>\n",
              "      <td>9.729167</td>\n",
              "      <td>7.020479</td>\n",
              "    </tr>\n",
              "    <tr>\n",
              "      <th>50%</th>\n",
              "      <td>2.100000</td>\n",
              "      <td>1343.500000</td>\n",
              "      <td>22.391667</td>\n",
              "      <td>7.533333</td>\n",
              "    </tr>\n",
              "    <tr>\n",
              "      <th>75%</th>\n",
              "      <td>3.050000</td>\n",
              "      <td>1743.250000</td>\n",
              "      <td>29.054167</td>\n",
              "      <td>8.480023</td>\n",
              "    </tr>\n",
              "    <tr>\n",
              "      <th>max</th>\n",
              "      <td>26.200000</td>\n",
              "      <td>15643.000000</td>\n",
              "      <td>260.716667</td>\n",
              "      <td>10.000000</td>\n",
              "    </tr>\n",
              "  </tbody>\n",
              "</table>\n",
              "</div>"
            ],
            "text/plain": [
              "        distance       seconds     minutes  min_per_km\n",
              "count  81.000000     52.000000   52.000000   52.000000\n",
              "mean    3.137531   1901.788462   31.696474    7.725297\n",
              "std     3.634519   2560.424171   42.673736    0.954475\n",
              "min     0.650000    376.000000    6.266667    6.000000\n",
              "25%     1.370000    583.750000    9.729167    7.020479\n",
              "50%     2.100000   1343.500000   22.391667    7.533333\n",
              "75%     3.050000   1743.250000   29.054167    8.480023\n",
              "max    26.200000  15643.000000  260.716667   10.000000"
            ]
          },
          "metadata": {
            "tags": []
          },
          "execution_count": 6
        }
      ]
    },
    {
      "cell_type": "code",
      "metadata": {
        "id": "oMlEFDHM3c41",
        "colab_type": "code",
        "outputId": "92540709-3419-4759-b628-80ebcb976da0",
        "colab": {
          "base_uri": "https://localhost:8080/",
          "height": 34
        }
      },
      "source": [
        "# 1. What is the maximal value from column minutes?\n",
        "df['minutes'].max()"
      ],
      "execution_count": 5,
      "outputs": [
        {
          "output_type": "execute_result",
          "data": {
            "text/plain": [
              "260.71666666666664"
            ]
          },
          "metadata": {
            "tags": []
          },
          "execution_count": 5
        }
      ]
    },
    {
      "cell_type": "code",
      "metadata": {
        "id": "fDQEdFdd5tpC",
        "colab_type": "code",
        "outputId": "40fee55f-745b-4f04-e881-8b2bc5378cc5",
        "colab": {
          "base_uri": "https://localhost:8080/",
          "height": 34
        }
      },
      "source": [
        "# 2. What's the minimal values more than 2.0 from column distance?\n",
        "df['distance'][df.distance > 2.0].min()"
      ],
      "execution_count": 49,
      "outputs": [
        {
          "output_type": "execute_result",
          "data": {
            "text/plain": [
              "2.01"
            ]
          },
          "metadata": {
            "tags": []
          },
          "execution_count": 49
        }
      ]
    },
    {
      "cell_type": "code",
      "metadata": {
        "id": "PT8EZDgFPfza",
        "colab_type": "code",
        "outputId": "e4f49146-03d6-43a0-8604-7c3f4a253095",
        "colab": {
          "base_uri": "https://localhost:8080/",
          "height": 295
        }
      },
      "source": [
        "# 3. Make a plot with the cumulated frequency from column distance.\n",
        "df['distance'].cumsum().plot()\n",
        "plt.title('Cumulated Frequency from Distance')\n",
        "plt.xlabel('Day')\n",
        "plt.ylabel('Distance')\n",
        "plt.show()"
      ],
      "execution_count": 47,
      "outputs": [
        {
          "output_type": "display_data",
          "data": {
            "image/png": "[encoded data removed]",
            "text/plain": [
              "<Figure size 432x288 with 1 Axes>"
            ]
          },
          "metadata": {
            "tags": [],
            "needs_background": "light"
          }
        }
      ]
    },
    {
      "cell_type": "code",
      "metadata": {
        "id": "erZ55utr8IFO",
        "colab_type": "code",
        "outputId": "4ef41d95-2b75-4fcd-ecbe-b1a9ca010ae9",
        "colab": {
          "base_uri": "https://localhost:8080/",
          "height": 279
        }
      },
      "source": [
        "kwargs = {'cumulative':True}\n",
        "sns.distplot(df['distance'],hist_kws=kwargs,kde_kws=kwargs)\n",
        "plt.show()"
      ],
      "execution_count": 0,
      "outputs": [
        {
          "output_type": "display_data",
          "data": {
            "image/png": "[encoded data removed]",
            "text/plain": [
              "<Figure size 432x288 with 1 Axes>"
            ]
          },
          "metadata": {
            "tags": [],
            "needs_background": "light"
          }
        }
      ]
    },
    {
      "cell_type": "code",
      "metadata": {
        "id": "OMFT41GkIhl4",
        "colab_type": "code",
        "outputId": "01e2c7cf-0ce4-4441-fa31-b80c4278947e",
        "colab": {
          "base_uri": "https://localhost:8080/",
          "height": 34
        }
      },
      "source": [
        "# 4. What's the day of the week in the 0 position?\n",
        "df['date'][0].strftime('%A')"
      ],
      "execution_count": 45,
      "outputs": [
        {
          "output_type": "execute_result",
          "data": {
            "text/plain": [
              "'Sunday'"
            ]
          },
          "metadata": {
            "tags": []
          },
          "execution_count": 45
        }
      ]
    },
    {
      "cell_type": "code",
      "metadata": {
        "id": "ZRJuUpHXhaEe",
        "colab_type": "code",
        "outputId": "8bdf57d8-57ad-4e77-e468-4e92c3ef9111",
        "colab": {
          "base_uri": "https://localhost:8080/",
          "height": 119
        }
      },
      "source": [
        "# 5. What's the days of week in the first five positions?\n",
        "df['date'].map(lambda x:x.strftime('%A')).head(5)"
      ],
      "execution_count": 41,
      "outputs": [
        {
          "output_type": "execute_result",
          "data": {
            "text/plain": [
              "0      Sunday\n",
              "1      Monday\n",
              "2     Tuesday\n",
              "3    Thursday\n",
              "4      Friday\n",
              "Name: date, dtype: object"
            ]
          },
          "metadata": {
            "tags": []
          },
          "execution_count": 41
        }
      ]
    },
    {
      "cell_type": "code",
      "metadata": {
        "id": "zLmQJQD_oV5D",
        "colab_type": "code",
        "colab": {}
      },
      "source": [
        "# 6. Make a new column in the dataframe with the days of week to each rows.\n",
        "df['day_of_week'] = df['date'].map(lambda x:x.strftime('%A'))"
      ],
      "execution_count": 0,
      "outputs": []
    },
    {
      "cell_type": "code",
      "metadata": {
        "id": "1z2UU_nvraIS",
        "colab_type": "code",
        "colab": {
          "base_uri": "https://localhost:8080/",
          "height": 419
        },
        "outputId": "153489d7-19bf-4d94-fb69-62f42e23a09f"
      },
      "source": [
        "# Show dataframe\n",
        "df"
      ],
      "execution_count": 53,
      "outputs": [
        {
          "output_type": "execute_result",
          "data": {
            "text/html": [
              "<div>\n",
              "<style scoped>\n",
              "    .dataframe tbody tr th:only-of-type {\n",
              "        vertical-align: middle;\n",
              "    }\n",
              "\n",
              "    .dataframe tbody tr th {\n",
              "        vertical-align: top;\n",
              "    }\n",
              "\n",
              "    .dataframe thead th {\n",
              "        text-align: right;\n",
              "    }\n",
              "</style>\n",
              "<table border=\"1\" class=\"dataframe\">\n",
              "  <thead>\n",
              "    <tr style=\"text-align: right;\">\n",
              "      <th></th>\n",
              "      <th>date</th>\n",
              "      <th>distance</th>\n",
              "      <th>time</th>\n",
              "      <th>seconds</th>\n",
              "      <th>minutes</th>\n",
              "      <th>min_per_km</th>\n",
              "      <th>day_of_week</th>\n",
              "    </tr>\n",
              "  </thead>\n",
              "  <tbody>\n",
              "    <tr>\n",
              "      <th>0</th>\n",
              "      <td>2015-08-02</td>\n",
              "      <td>1.70</td>\n",
              "      <td>NaN</td>\n",
              "      <td>NaN</td>\n",
              "      <td>NaN</td>\n",
              "      <td>NaN</td>\n",
              "      <td>Sunday</td>\n",
              "    </tr>\n",
              "    <tr>\n",
              "      <th>1</th>\n",
              "      <td>2015-08-03</td>\n",
              "      <td>1.40</td>\n",
              "      <td>NaN</td>\n",
              "      <td>NaN</td>\n",
              "      <td>NaN</td>\n",
              "      <td>NaN</td>\n",
              "      <td>Monday</td>\n",
              "    </tr>\n",
              "    <tr>\n",
              "      <th>2</th>\n",
              "      <td>2015-08-04</td>\n",
              "      <td>2.10</td>\n",
              "      <td>NaN</td>\n",
              "      <td>NaN</td>\n",
              "      <td>NaN</td>\n",
              "      <td>NaN</td>\n",
              "      <td>Tuesday</td>\n",
              "    </tr>\n",
              "    <tr>\n",
              "      <th>3</th>\n",
              "      <td>2015-08-06</td>\n",
              "      <td>2.38</td>\n",
              "      <td>NaN</td>\n",
              "      <td>NaN</td>\n",
              "      <td>NaN</td>\n",
              "      <td>NaN</td>\n",
              "      <td>Thursday</td>\n",
              "    </tr>\n",
              "    <tr>\n",
              "      <th>4</th>\n",
              "      <td>2015-08-07</td>\n",
              "      <td>2.30</td>\n",
              "      <td>NaN</td>\n",
              "      <td>NaN</td>\n",
              "      <td>NaN</td>\n",
              "      <td>NaN</td>\n",
              "      <td>Friday</td>\n",
              "    </tr>\n",
              "    <tr>\n",
              "      <th>...</th>\n",
              "      <td>...</td>\n",
              "      <td>...</td>\n",
              "      <td>...</td>\n",
              "      <td>...</td>\n",
              "      <td>...</td>\n",
              "      <td>...</td>\n",
              "      <td>...</td>\n",
              "    </tr>\n",
              "    <tr>\n",
              "      <th>76</th>\n",
              "      <td>2015-12-24</td>\n",
              "      <td>3.05</td>\n",
              "      <td>0:25:08</td>\n",
              "      <td>1508.0</td>\n",
              "      <td>25.133333</td>\n",
              "      <td>8.240437</td>\n",
              "      <td>Thursday</td>\n",
              "    </tr>\n",
              "    <tr>\n",
              "      <th>77</th>\n",
              "      <td>2015-12-25</td>\n",
              "      <td>14.80</td>\n",
              "      <td>2:20:00</td>\n",
              "      <td>8400.0</td>\n",
              "      <td>140.000000</td>\n",
              "      <td>9.459459</td>\n",
              "      <td>Friday</td>\n",
              "    </tr>\n",
              "    <tr>\n",
              "      <th>78</th>\n",
              "      <td>2015-12-26</td>\n",
              "      <td>5.20</td>\n",
              "      <td>NaN</td>\n",
              "      <td>NaN</td>\n",
              "      <td>NaN</td>\n",
              "      <td>NaN</td>\n",
              "      <td>Saturday</td>\n",
              "    </tr>\n",
              "    <tr>\n",
              "      <th>79</th>\n",
              "      <td>2015-12-30</td>\n",
              "      <td>3.15</td>\n",
              "      <td>0:22:10</td>\n",
              "      <td>1330.0</td>\n",
              "      <td>22.166667</td>\n",
              "      <td>7.037037</td>\n",
              "      <td>Wednesday</td>\n",
              "    </tr>\n",
              "    <tr>\n",
              "      <th>80</th>\n",
              "      <td>2016-01-01</td>\n",
              "      <td>26.20</td>\n",
              "      <td>4:20:43</td>\n",
              "      <td>15643.0</td>\n",
              "      <td>260.716667</td>\n",
              "      <td>9.951018</td>\n",
              "      <td>Friday</td>\n",
              "    </tr>\n",
              "  </tbody>\n",
              "</table>\n",
              "<p>81 rows × 7 columns</p>\n",
              "</div>"
            ],
            "text/plain": [
              "         date  distance     time  seconds     minutes  min_per_km day_of_week\n",
              "0  2015-08-02      1.70      NaN      NaN         NaN         NaN      Sunday\n",
              "1  2015-08-03      1.40      NaN      NaN         NaN         NaN      Monday\n",
              "2  2015-08-04      2.10      NaN      NaN         NaN         NaN     Tuesday\n",
              "3  2015-08-06      2.38      NaN      NaN         NaN         NaN    Thursday\n",
              "4  2015-08-07      2.30      NaN      NaN         NaN         NaN      Friday\n",
              "..        ...       ...      ...      ...         ...         ...         ...\n",
              "76 2015-12-24      3.05  0:25:08   1508.0   25.133333    8.240437    Thursday\n",
              "77 2015-12-25     14.80  2:20:00   8400.0  140.000000    9.459459      Friday\n",
              "78 2015-12-26      5.20      NaN      NaN         NaN         NaN    Saturday\n",
              "79 2015-12-30      3.15  0:22:10   1330.0   22.166667    7.037037   Wednesday\n",
              "80 2016-01-01     26.20  4:20:43  15643.0  260.716667    9.951018      Friday\n",
              "\n",
              "[81 rows x 7 columns]"
            ]
          },
          "metadata": {
            "tags": []
          },
          "execution_count": 53
        }
      ]
    },
    {
      "cell_type": "code",
      "metadata": {
        "id": "UkHTgW9nrf7X",
        "colab_type": "code",
        "colab": {}
      },
      "source": [
        ""
      ],
      "execution_count": 0,
      "outputs": []
    }
  ]
}