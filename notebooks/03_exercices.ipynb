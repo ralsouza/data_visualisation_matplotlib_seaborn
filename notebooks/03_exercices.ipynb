{
  "nbformat": 4,
  "nbformat_minor": 0,
  "metadata": {
    "colab": {
      "name": "03_exercices.ipynb",
      "provenance": [],
      "collapsed_sections": [],
      "mount_file_id": "1VDlHDvf498Q86wDedOHiufboQURYY6e4",
      "authorship_tag": "ABX9TyNEMW5eS7BpjelcAtdQ+NZ/",
      "include_colab_link": true
    },
    "kernelspec": {
      "name": "python3",
      "display_name": "Python 3"
    }
  },
  "cells": [
    {
      "cell_type": "markdown",
      "metadata": {
        "id": "view-in-github",
        "colab_type": "text"
      },
      "source": [
        "<a href=\"https://colab.research.google.com/github/ralsouza/data_visualisation_matplotlib_seaborn/blob/master/notebooks/03_exercices.ipynb\" target=\"_parent\"><img src=\"https://colab.research.google.com/assets/colab-badge.svg\" alt=\"Open In Colab\"/></a>"
      ]
    },
    {
      "cell_type": "code",
      "metadata": {
        "id": "htiM68IZwlTQ",
        "colab_type": "code",
        "colab": {
          "base_uri": "https://localhost:8080/",
          "height": 73
        },
        "outputId": "0000bfb4-0760-4e9b-c1ea-967ddbb560e4"
      },
      "source": [
        "# Import libraries\n",
        "import numpy as np\n",
        "import pandas as pd\n",
        "import matplotlib.pyplot as plt\n",
        "%matplotlib inline\n",
        "import seaborn as sns"
      ],
      "execution_count": 4,
      "outputs": [
        {
          "output_type": "stream",
          "text": [
            "/usr/local/lib/python3.6/dist-packages/statsmodels/tools/_testing.py:19: FutureWarning: pandas.util.testing is deprecated. Use the functions in the public API at pandas.testing instead.\n",
            "  import pandas.util.testing as tm\n"
          ],
          "name": "stderr"
        }
      ]
    },
    {
      "cell_type": "code",
      "metadata": {
        "id": "yfwqmjlDypZd",
        "colab_type": "code",
        "colab": {}
      },
      "source": [
        "# Load dataset\n",
        "df = pd.read_csv('/content/drive/My Drive/Colab Notebooks/05_data_visualisation_matplotlib_seaborn/data/dataframe_saved_v2.csv', parse_dates=['Data'])"
      ],
      "execution_count": 0,
      "outputs": []
    },
    {
      "cell_type": "code",
      "metadata": {
        "id": "fyDn03Ao0IVj",
        "colab_type": "code",
        "outputId": "b14dbcda-476b-4621-d986-e95d40f6248b",
        "colab": {
          "base_uri": "https://localhost:8080/",
          "height": 143
        }
      },
      "source": [
        "# Check column data types\n",
        "df.dtypes"
      ],
      "execution_count": 10,
      "outputs": [
        {
          "output_type": "execute_result",
          "data": {
            "text/plain": [
              "Data          datetime64[ns]\n",
              "Distancia            float64\n",
              "Tempo                 object\n",
              "Segundos             float64\n",
              "Minutos              float64\n",
              "Min_Por_Km           float64\n",
              "dtype: object"
            ]
          },
          "metadata": {
            "tags": []
          },
          "execution_count": 10
        }
      ]
    },
    {
      "cell_type": "code",
      "metadata": {
        "id": "bZhQQ8sp24mW",
        "colab_type": "code",
        "colab": {}
      },
      "source": [
        "# Change column names\n",
        "df.columns = ['date','distance','time','seconds','minutes','min_per_km']"
      ],
      "execution_count": 0,
      "outputs": []
    },
    {
      "cell_type": "code",
      "metadata": {
        "id": "jHg08p_10rCd",
        "colab_type": "code",
        "outputId": "914e0965-15d2-4a4b-bdb7-e2a4385cc6d2",
        "colab": {
          "base_uri": "https://localhost:8080/",
          "height": 204
        }
      },
      "source": [
        "# https://medium.com/@jman4190/explaining-the-inplace-parameter-for-beginners-5de7ffa18d2e\n",
        "# inplace: Do you want to overwrite the existing dataframe?\n",
        "# True: yes | False: no\n",
        "df.sort_index(inplace=True)\n",
        "df.head()"
      ],
      "execution_count": 7,
      "outputs": [
        {
          "output_type": "execute_result",
          "data": {
            "text/html": [
              "<div>\n",
              "<style scoped>\n",
              "    .dataframe tbody tr th:only-of-type {\n",
              "        vertical-align: middle;\n",
              "    }\n",
              "\n",
              "    .dataframe tbody tr th {\n",
              "        vertical-align: top;\n",
              "    }\n",
              "\n",
              "    .dataframe thead th {\n",
              "        text-align: right;\n",
              "    }\n",
              "</style>\n",
              "<table border=\"1\" class=\"dataframe\">\n",
              "  <thead>\n",
              "    <tr style=\"text-align: right;\">\n",
              "      <th></th>\n",
              "      <th>date</th>\n",
              "      <th>distance</th>\n",
              "      <th>time</th>\n",
              "      <th>seconds</th>\n",
              "      <th>minutes</th>\n",
              "      <th>min_per_km</th>\n",
              "    </tr>\n",
              "  </thead>\n",
              "  <tbody>\n",
              "    <tr>\n",
              "      <th>0</th>\n",
              "      <td>2015-08-02</td>\n",
              "      <td>1.70</td>\n",
              "      <td>NaN</td>\n",
              "      <td>NaN</td>\n",
              "      <td>NaN</td>\n",
              "      <td>NaN</td>\n",
              "    </tr>\n",
              "    <tr>\n",
              "      <th>1</th>\n",
              "      <td>2015-08-03</td>\n",
              "      <td>1.40</td>\n",
              "      <td>NaN</td>\n",
              "      <td>NaN</td>\n",
              "      <td>NaN</td>\n",
              "      <td>NaN</td>\n",
              "    </tr>\n",
              "    <tr>\n",
              "      <th>2</th>\n",
              "      <td>2015-08-04</td>\n",
              "      <td>2.10</td>\n",
              "      <td>NaN</td>\n",
              "      <td>NaN</td>\n",
              "      <td>NaN</td>\n",
              "      <td>NaN</td>\n",
              "    </tr>\n",
              "    <tr>\n",
              "      <th>3</th>\n",
              "      <td>2015-08-06</td>\n",
              "      <td>2.38</td>\n",
              "      <td>NaN</td>\n",
              "      <td>NaN</td>\n",
              "      <td>NaN</td>\n",
              "      <td>NaN</td>\n",
              "    </tr>\n",
              "    <tr>\n",
              "      <th>4</th>\n",
              "      <td>2015-08-07</td>\n",
              "      <td>2.30</td>\n",
              "      <td>NaN</td>\n",
              "      <td>NaN</td>\n",
              "      <td>NaN</td>\n",
              "      <td>NaN</td>\n",
              "    </tr>\n",
              "  </tbody>\n",
              "</table>\n",
              "</div>"
            ],
            "text/plain": [
              "        date  distance time  seconds  minutes  min_per_km\n",
              "0 2015-08-02      1.70  NaN      NaN      NaN         NaN\n",
              "1 2015-08-03      1.40  NaN      NaN      NaN         NaN\n",
              "2 2015-08-04      2.10  NaN      NaN      NaN         NaN\n",
              "3 2015-08-06      2.38  NaN      NaN      NaN         NaN\n",
              "4 2015-08-07      2.30  NaN      NaN      NaN         NaN"
            ]
          },
          "metadata": {
            "tags": []
          },
          "execution_count": 7
        }
      ]
    },
    {
      "cell_type": "code",
      "metadata": {
        "id": "GBPVhE4h424b",
        "colab_type": "code",
        "colab": {
          "base_uri": "https://localhost:8080/",
          "height": 297
        },
        "outputId": "1b167fb7-cfc9-4208-a3d9-db6887cf3dc5"
      },
      "source": [
        "# Describing\n",
        "df.describe()"
      ],
      "execution_count": 32,
      "outputs": [
        {
          "output_type": "execute_result",
          "data": {
            "text/html": [
              "<div>\n",
              "<style scoped>\n",
              "    .dataframe tbody tr th:only-of-type {\n",
              "        vertical-align: middle;\n",
              "    }\n",
              "\n",
              "    .dataframe tbody tr th {\n",
              "        vertical-align: top;\n",
              "    }\n",
              "\n",
              "    .dataframe thead th {\n",
              "        text-align: right;\n",
              "    }\n",
              "</style>\n",
              "<table border=\"1\" class=\"dataframe\">\n",
              "  <thead>\n",
              "    <tr style=\"text-align: right;\">\n",
              "      <th></th>\n",
              "      <th>distance</th>\n",
              "      <th>seconds</th>\n",
              "      <th>minutes</th>\n",
              "      <th>min_per_km</th>\n",
              "    </tr>\n",
              "  </thead>\n",
              "  <tbody>\n",
              "    <tr>\n",
              "      <th>count</th>\n",
              "      <td>81.000000</td>\n",
              "      <td>52.000000</td>\n",
              "      <td>52.000000</td>\n",
              "      <td>52.000000</td>\n",
              "    </tr>\n",
              "    <tr>\n",
              "      <th>mean</th>\n",
              "      <td>3.137531</td>\n",
              "      <td>1901.788462</td>\n",
              "      <td>31.696474</td>\n",
              "      <td>7.725297</td>\n",
              "    </tr>\n",
              "    <tr>\n",
              "      <th>std</th>\n",
              "      <td>3.634519</td>\n",
              "      <td>2560.424171</td>\n",
              "      <td>42.673736</td>\n",
              "      <td>0.954475</td>\n",
              "    </tr>\n",
              "    <tr>\n",
              "      <th>min</th>\n",
              "      <td>0.650000</td>\n",
              "      <td>376.000000</td>\n",
              "      <td>6.266667</td>\n",
              "      <td>6.000000</td>\n",
              "    </tr>\n",
              "    <tr>\n",
              "      <th>25%</th>\n",
              "      <td>1.370000</td>\n",
              "      <td>583.750000</td>\n",
              "      <td>9.729167</td>\n",
              "      <td>7.020479</td>\n",
              "    </tr>\n",
              "    <tr>\n",
              "      <th>50%</th>\n",
              "      <td>2.100000</td>\n",
              "      <td>1343.500000</td>\n",
              "      <td>22.391667</td>\n",
              "      <td>7.533333</td>\n",
              "    </tr>\n",
              "    <tr>\n",
              "      <th>75%</th>\n",
              "      <td>3.050000</td>\n",
              "      <td>1743.250000</td>\n",
              "      <td>29.054167</td>\n",
              "      <td>8.480023</td>\n",
              "    </tr>\n",
              "    <tr>\n",
              "      <th>max</th>\n",
              "      <td>26.200000</td>\n",
              "      <td>15643.000000</td>\n",
              "      <td>260.716667</td>\n",
              "      <td>10.000000</td>\n",
              "    </tr>\n",
              "  </tbody>\n",
              "</table>\n",
              "</div>"
            ],
            "text/plain": [
              "        distance       seconds     minutes  min_per_km\n",
              "count  81.000000     52.000000   52.000000   52.000000\n",
              "mean    3.137531   1901.788462   31.696474    7.725297\n",
              "std     3.634519   2560.424171   42.673736    0.954475\n",
              "min     0.650000    376.000000    6.266667    6.000000\n",
              "25%     1.370000    583.750000    9.729167    7.020479\n",
              "50%     2.100000   1343.500000   22.391667    7.533333\n",
              "75%     3.050000   1743.250000   29.054167    8.480023\n",
              "max    26.200000  15643.000000  260.716667   10.000000"
            ]
          },
          "metadata": {
            "tags": []
          },
          "execution_count": 32
        }
      ]
    },
    {
      "cell_type": "code",
      "metadata": {
        "id": "oMlEFDHM3c41",
        "colab_type": "code",
        "colab": {
          "base_uri": "https://localhost:8080/",
          "height": 35
        },
        "outputId": "d18bbbba-8146-4a9d-92ec-63320620f407"
      },
      "source": [
        "# 1. What is the maximal value from column minutes?\n",
        "max_minutes = np.round(df['minutes'].max(),3)\n",
        "\n",
        "print(max_minutes)"
      ],
      "execution_count": 40,
      "outputs": [
        {
          "output_type": "stream",
          "text": [
            "260.717\n"
          ],
          "name": "stdout"
        }
      ]
    },
    {
      "cell_type": "code",
      "metadata": {
        "id": "fDQEdFdd5tpC",
        "colab_type": "code",
        "colab": {
          "base_uri": "https://localhost:8080/"
        },
        "outputId": "ebbda949-01fd-4728-bc54-5dbeb2496b3a"
      },
      "source": [
        "# 2. What's the minimal values more than 2.0 from column distance?\n",
        "min_dist = np.round(df[df['distance'] > 2.0]['distance'].min(),3)\n",
        "\n",
        "print(min_dist)"
      ],
      "execution_count": 15,
      "outputs": [
        {
          "output_type": "stream",
          "text": [
            "2.01\n"
          ],
          "name": "stdout"
        }
      ]
    },
    {
      "cell_type": "code",
      "metadata": {
        "id": "erZ55utr8IFO",
        "colab_type": "code",
        "colab": {
          "base_uri": "https://localhost:8080/",
          "height": 279
        },
        "outputId": "6c986ee5-d6b6-4edd-a974-9feb1a8c947a"
      },
      "source": [
        "# 3. Make a plot with the cumulated frequency from column distance.\n",
        "kwargs = {'cumulative':True}\n",
        "sns.distplot(df['distance'],hist_kws=kwargs,kde_kws=kwargs)\n",
        "plt.show()"
      ],
      "execution_count": 16,
      "outputs": [
        {
          "output_type": "display_data",
          "data": {
            "image/png": "[encoded data removed]",
            "text/plain": [
              "<Figure size 432x288 with 1 Axes>"
            ]
          },
          "metadata": {
            "tags": [],
            "needs_background": "light"
          }
        }
      ]
    },
    {
      "cell_type": "code",
      "metadata": {
        "id": "jacp2q70G8lr",
        "colab_type": "code",
        "colab": {
          "base_uri": "https://localhost:8080/",
          "height": 265
        },
        "outputId": "4d563afe-9cb1-43f6-bd9d-8065c54d3dd9"
      },
      "source": [
        "plt.hist(df['distance'],cumulative=True,bins=30)\n",
        "plt.show()"
      ],
      "execution_count": 11,
      "outputs": [
        {
          "output_type": "display_data",
          "data": {
            "image/png": "[encoded data removed]",
            "text/plain": [
              "<Figure size 432x288 with 1 Axes>"
            ]
          },
          "metadata": {
            "tags": [],
            "needs_background": "light"
          }
        }
      ]
    },
    {
      "cell_type": "code",
      "metadata": {
        "id": "OMFT41GkIhl4",
        "colab_type": "code",
        "colab": {}
      },
      "source": [
        "# 4. What's the day of week in the 0 position?"
      ],
      "execution_count": 0,
      "outputs": []
    }
  ]
}